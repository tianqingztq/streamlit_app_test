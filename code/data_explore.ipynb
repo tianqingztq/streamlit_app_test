{
 "cells": [
  {
   "cell_type": "markdown",
   "metadata": {},
   "source": [
    "# dataset\n",
    "1. diabetes _ 012 _ health _ indicators _ BRFSS2015.csv is a clean dataset of 253,680 survey responses to the CDC's BRFSS2015. The target variable Diabetes_012 has 3 classes. 0 is for no diabetes or only during pregnancy, 1 is for prediabetes, and 2 is for diabetes. There is class imbalance in this dataset. This dataset has 21 feature variables\n",
    "2. diabetes _ binary _ 5050split _ health _ indicators _ BRFSS2015.csv is a clean dataset of 70,692 survey responses to the CDC's BRFSS2015. It has an equal 50-50 split of respondents with no diabetes and with either prediabetes or diabetes. The target variable Diabetes_binary has 2 classes. 0 is for no diabetes, and 1 is for prediabetes or diabetes. This dataset has 21 feature variables and is balanced.\n",
    "3. diabetes _ binary _ health _ indicators _ BRFSS2015.csv is a clean dataset of 253,680 survey responses to the CDC's BRFSS2015. The target variable Diabetes_binary has 2 classes. 0 is for no diabetes, and 1 is for prediabetes or diabetes. This dataset has 21 feature variables and is not balanced.\n",
    "\n",
    "We should use diabetes _ 012 _ health _ indicators _ BRFSS2015.csv considering the sample size. And we should consider prediabetes as a separate class as well.\n",
    "\n",
    "### What is prediabetes?\n",
    "Prediabetes is a health condition where blood sugar levels are higher than normal but not yet high enough to be classified as type 2 diabetes. It is a warning sign indicating a higher risk of developing diabetes, heart disease, and stroke in the future.\n",
    "Key Points About Prediabetes:\n",
    "Blood Sugar Levels:\n",
    "\n",
    "Normal blood sugar levels range from 70–99 mg/dL when fasting.\n",
    "Prediabetes is diagnosed when fasting blood sugar is between 100–125 mg/dL.\n",
    "Blood sugar levels from 140–199 mg/dL after a two-hour glucose tolerance test also indicate prediabetes.\n",
    "Hemoglobin A1c (a measure of average blood sugar over three months) levels of 5.7% to 6.4% indicate prediabetes.\n",
    "Symptoms:\n",
    "\n",
    "Often, prediabetes has no clear symptoms, making it challenging to detect without a blood test.\n",
    "Some individuals may experience increased thirst, frequent urination, or fatigue, but these symptoms are more common with full-blown diabetes.\n",
    "Risk Factors:\n",
    "\n",
    "Being overweight or obese.\n",
    "Leading a sedentary lifestyle.\n",
    "Having a family history of diabetes.\n",
    "Having high blood pressure or cholesterol.\n",
    "Being over 45 years old.\n",
    "Having polycystic ovary syndrome (PCOS) or a history of gestational diabetes.\n",
    "Prevention and Management:\n",
    "\n",
    "Diet and Exercise: Adopting a healthy, balanced diet and engaging in regular physical activity can help manage and even reverse prediabetes.\n",
    "Weight Loss: Losing even a small amount of weight (5-7% of body weight) can significantly reduce the risk of developing type 2 diabetes.\n",
    "Regular Monitoring: Regular blood sugar testing and follow-ups with a healthcare provider help monitor and manage the condition effectively.\n",
    "Reversal:\n",
    "\n",
    "Prediabetes can often be reversed through lifestyle changes, reducing the likelihood of progressing to type 2 diabetes.\n",
    "Since prediabetes often has no symptoms, regular screening is important, especially for individuals with risk factors.\n"
   ]
  },
  {
   "cell_type": "markdown",
   "metadata": {},
   "source": [
    "# Reference Links\n",
    "- Data Source: https://www.kaggle.com/datasets/alexteboul/diabetes-health-indicators-dataset/data\n",
    "- Building Risk Prediction Models for Type 2 Diabetes Using Machine Learning Techniques: https://www.cdc.gov/pcd/issues/2019/19_0109.htm\n",
    "    \n",
    "    - We can take additional looks into type 1 diabetes which suring life period < 30 years old, which could be a nowadays new trend. \n",
    "    \n",
    "    - *\"There are 3 main types of diabetes: type 1, type 2, and gestational. Of those 3, type 2 diabetes is the most prevalent and accounts for 90% to 95% of all cases. Type 2 diabetes is a predictable and preventable disease because it usually develops later in life (age >30) as a result of lifestyle (eg, low physical activity, obesity status) and other (eg, age, sex, race, family history) risk factors (5,6). Many models have been built to predict the occurrence of type 2 diabetes (7–10). However, because of its causal complexity, the prediction performance (especially sensitivity) of models for type 2 diabetes based on survey data needs improvement (11). In addition, although many risk factors, including obesity and age, are well established for type 2 diabetes, others remain to be identified.\"*"
   ]
  },
  {
   "cell_type": "code",
   "execution_count": 2,
   "metadata": {},
   "outputs": [],
   "source": [
    "import os\n",
    "import numpy as np\n",
    "import pandas as pd"
   ]
  },
  {
   "cell_type": "code",
   "execution_count": 4,
   "metadata": {},
   "outputs": [],
   "source": [
    "# read data\n",
    "project_dir = '/Users/tianqingzhou/Documents/GeorgiaTech/CS6440_IntroHealthInformatics/team'\n",
    "df = pd.read_csv(os.path.join(project_dir, \"data\", \"diabetes_012_health_indicators_BRFSS2015.csv\"))"
   ]
  },
  {
   "cell_type": "code",
   "execution_count": 5,
   "metadata": {},
   "outputs": [
    {
     "data": {
      "text/plain": [
       "Index(['Diabetes_012', 'HighBP', 'HighChol', 'CholCheck', 'BMI', 'Smoker',\n",
       "       'Stroke', 'HeartDiseaseorAttack', 'PhysActivity', 'Fruits', 'Veggies',\n",
       "       'HvyAlcoholConsump', 'AnyHealthcare', 'NoDocbcCost', 'GenHlth',\n",
       "       'MentHlth', 'PhysHlth', 'DiffWalk', 'Sex', 'Age', 'Education',\n",
       "       'Income'],\n",
       "      dtype='object')"
      ]
     },
     "execution_count": 5,
     "metadata": {},
     "output_type": "execute_result"
    }
   ],
   "source": [
    "df.columns"
   ]
  },
  {
   "cell_type": "markdown",
   "metadata": {},
   "source": [
    "### main categories among 21 features\n",
    "- Measurements: 'HighBP', 'HighChol', 'CholCheck', 'BMI', \n",
    "\n",
    "- Disease history: 'Stroke', 'HeartDiseaseorAttack', \n",
    "\n",
    "- Life style: 'PhysActivity', 'Fruits', 'Veggies', 'HvyAlcoholConsump', 'Smoker',\n",
    "\n",
    "- Health condition: 'GenHlth', 'MentHlth', 'PhysHlth', 'DiffWalk', \n",
    "\n",
    "- Demographic: 'AnyHealthcare', 'NoDocbcCost', 'Sex', 'Age', 'Education', 'Income'\n",
    "\n",
    "*More detailed attribute description and data distribution: Column Session at https://www.kaggle.com/datasets/alexteboul/diabetes-health-indicators-dataset/data*"
   ]
  },
  {
   "cell_type": "code",
   "execution_count": 6,
   "metadata": {},
   "outputs": [
    {
     "data": {
      "text/plain": [
       "(253680, 22)"
      ]
     },
     "execution_count": 6,
     "metadata": {},
     "output_type": "execute_result"
    }
   ],
   "source": [
    "df.shape"
   ]
  },
  {
   "cell_type": "code",
   "execution_count": 7,
   "metadata": {},
   "outputs": [
    {
     "data": {
      "text/plain": [
       "array([213703,   4631,  35346])"
      ]
     },
     "execution_count": 7,
     "metadata": {},
     "output_type": "execute_result"
    }
   ],
   "source": [
    "# \"0 is for no diabetes or only during pregnancy, 1 is for prediabetes, and 2 is for diabetes.\"\n",
    "np.bincount(df.Diabetes_012)"
   ]
  },
  {
   "cell_type": "code",
   "execution_count": null,
   "metadata": {},
   "outputs": [],
   "source": []
  }
 ],
 "metadata": {
  "kernelspec": {
   "display_name": "ai_env",
   "language": "python",
   "name": "python3"
  },
  "language_info": {
   "codemirror_mode": {
    "name": "ipython",
    "version": 3
   },
   "file_extension": ".py",
   "mimetype": "text/x-python",
   "name": "python",
   "nbconvert_exporter": "python",
   "pygments_lexer": "ipython3",
   "version": "3.9.7"
  }
 },
 "nbformat": 4,
 "nbformat_minor": 2
}
